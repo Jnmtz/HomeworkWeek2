{
  "cells": [
    {
      "cell_type": "markdown",
      "metadata": {
        "id": "7tQ2CH0MkTNw"
      },
      "source": [
        "# 6.4 Exercises"
      ]
    },
    {
      "cell_type": "code",
      "execution_count": 1,
      "metadata": {
        "id": "H34Nf9FekTN1"
      },
      "outputs": [],
      "source": [
        "import numpy as np\n",
        "import pandas as pd\n",
        "\n",
        "import matplotlib.pyplot as plt\n",
        "import seaborn as sns\n",
        "\n",
        "import statsmodels.formula.api as smf\n",
        "import statsmodels.api as sm\n",
        "from patsy.contrasts import Treatment"
      ]
    },
    {
      "cell_type": "markdown",
      "metadata": {
        "id": "ocGRYp4CkTN2"
      },
      "source": [
        "## Exercise 1: Loading the Data\n",
        "\n",
        "For today's exercise we will use the Cleveland Heart Disease dataset. It is a well-known dataset in the field of medical research and machine learning, particularly used for predicting heart disease. The dataset contains data collected from patients with suspected heart disease and includes various clinical and demographic attributes.\n",
        "\n",
        "\n",
        "1. Please [visit the documentation](https://archive.ics.uci.edu/dataset/45/heart+disease) and familiarize yourself with the dataset.\n",
        "2. Find the instructions for importing the data in Python. You can remove the printing of the metadata and variables, as this looks horrible in the notebook. Read it in the documentation instead.\n",
        "3. Create a combined DataFrame, which combines the features and the targets along the first axis: `pd.concat([X, y], axis=1)`.\n",
        "4. Please check if your data is how you expect it to be. You can use functions like `.describe()` or `.head()`."
      ]
    },
    {
      "cell_type": "code",
      "execution_count": 11,
      "metadata": {
        "colab": {
          "base_uri": "https://localhost:8080/"
        },
        "id": "SjvWHarckTN3",
        "outputId": "a1d8083e-e35a-4bb1-95cb-1b34e3e77ddf"
      },
      "outputs": [
        {
          "output_type": "stream",
          "name": "stdout",
          "text": [
            "   age  sex  cp  trestbps  chol  fbs  restecg  thalach  exang  oldpeak  slope  \\\n",
            "0   63    1   1       145   233    1        2      150      0      2.3      3   \n",
            "1   67    1   4       160   286    0        2      108      1      1.5      2   \n",
            "2   67    1   4       120   229    0        2      129      1      2.6      2   \n",
            "3   37    1   3       130   250    0        0      187      0      3.5      3   \n",
            "4   41    0   2       130   204    0        2      172      0      1.4      1   \n",
            "\n",
            "    ca  thal  num  \n",
            "0  0.0   6.0    0  \n",
            "1  3.0   3.0    2  \n",
            "2  2.0   7.0    1  \n",
            "3  0.0   3.0    0  \n",
            "4  0.0   3.0    0  \n"
          ]
        }
      ],
      "source": [
        "# Exercise 1\n",
        "#! pip install ucimlrepo\n",
        "\n",
        "#from ucimlrepo import fetch_ucirepo\n",
        "\n",
        "# fetch dataset\n",
        "heart_disease = fetch_ucirepo(id=45)\n",
        "\n",
        "# data (as pandas dataframes)\n",
        "X = heart_disease.data.features\n",
        "y = heart_disease.data.targets\n",
        "df = pd.concat([X, y], axis=1)\n",
        "print(df.head())\n",
        "\n",
        "\n"
      ]
    },
    {
      "cell_type": "markdown",
      "metadata": {
        "id": "AzOBBBLykTN3"
      },
      "source": [
        "## Exercise 2: Visualizing the Data\n",
        "\n",
        "Plot `age` against the diferent types of chest pain (`cp`) using `sns.boxplot()`. Incorporate the diagnosis of heart disease (`num`) as the `hue`. Add the axis labels and a title.\n",
        "\n",
        "*Additional information: Remember that patients without heart disease will have num = 0, while those with heart disease will have values ranging from 1 to 4.*"
      ]
    },
    {
      "cell_type": "code",
      "execution_count": 14,
      "metadata": {
        "colab": {
          "base_uri": "https://localhost:8080/",
          "height": 564
        },
        "id": "5by5i6ZikTN3",
        "outputId": "19eb3299-b1fa-44f1-e811-3ceb4989545d"
      },
      "outputs": [
        {
          "output_type": "display_data",
          "data": {
            "text/plain": [
              "<Figure size 1000x600 with 1 Axes>"
            ],
            "image/png": "[encoded data removed]"
          },
          "metadata": {}
        }
      ],
      "source": [
        "plt.figure(figsize=(10, 6))\n",
        "sns.boxplot(x = \"cp\", y = \"age\", hue = \"num\", data = df)\n",
        "\n",
        "plt.title('Age Distribution by Chest Pain Type')\n",
        "plt.xlabel('Chest Pain Type (cp)')\n",
        "plt.ylabel('Age')\n",
        "plt.show()"
      ]
    },
    {
      "cell_type": "markdown",
      "metadata": {
        "id": "KaWqgt2GkTN4"
      },
      "source": [
        "## Exercise 3: Dummy Coding\n",
        "\n",
        "Perform categorical regression with `cp` as the outcome variable and `age` as the predictors. For this:\n",
        "\n",
        "1. In the documentation, inspect the \"Additional Variable Information\" to find out about the different levels of chest pain\n",
        "2. Convert chest pain into a categorical variable\n",
        "3. Apply a dummy coding scheme with typical angina as the reference category\n",
        "4. Discuss the following points:\n",
        "    - What do the coefficients tell you about the relationship between age and different types of chest pain?\n",
        "    - Considering the explained variance and significance. Do the results suggest a relationship between chest pain type and age? Why or why not?"
      ]
    },
    {
      "cell_type": "code",
      "execution_count": 21,
      "metadata": {
        "colab": {
          "base_uri": "https://localhost:8080/"
        },
        "id": "Wdz7DEpmkTN4",
        "outputId": "55cf0a4c-0c32-4fc2-e0a1-1b9456bbde89"
      },
      "outputs": [
        {
          "output_type": "stream",
          "name": "stdout",
          "text": [
            "category\n",
            "                            OLS Regression Results                            \n",
            "==============================================================================\n",
            "Dep. Variable:                    age   R-squared:                       0.033\n",
            "Model:                            OLS   Adj. R-squared:                  0.023\n",
            "Method:                 Least Squares   F-statistic:                     3.364\n",
            "Date:                Wed, 11 Dec 2024   Prob (F-statistic):             0.0191\n",
            "Time:                        12:23:48   Log-Likelihood:                -1091.5\n",
            "No. Observations:                 303   AIC:                             2191.\n",
            "Df Residuals:                     299   BIC:                             2206.\n",
            "Df Model:                           3                                         \n",
            "Covariance Type:            nonrobust                                         \n",
            "======================================================================================================\n",
            "                                         coef    std err          t      P>|t|      [0.025      0.975]\n",
            "------------------------------------------------------------------------------------------------------\n",
            "Intercept                             55.8696      1.863     29.990      0.000      52.203      59.536\n",
            "C(cp, Treatment(reference=1))[T.2]    -4.5096      2.251     -2.003      0.046      -8.939      -0.080\n",
            "C(cp, Treatment(reference=1))[T.3]    -2.1719      2.097     -1.036      0.301      -6.299       1.955\n",
            "C(cp, Treatment(reference=1))[T.4]    -0.1473      2.006     -0.073      0.942      -4.095       3.801\n",
            "==============================================================================\n",
            "Omnibus:                        3.943   Durbin-Watson:                   2.003\n",
            "Prob(Omnibus):                  0.139   Jarque-Bera (JB):                3.354\n",
            "Skew:                          -0.166   Prob(JB):                        0.187\n",
            "Kurtosis:                       2.606   Cond. No.                         8.69\n",
            "==============================================================================\n",
            "\n",
            "Notes:\n",
            "[1] Standard Errors assume that the covariance matrix of the errors is correctly specified.\n"
          ]
        }
      ],
      "source": [
        "# Exercise 3\n",
        "#  9 cp: chest pain type\n",
        " #       -- Value 1: typical angina\n",
        "  #      -- Value 2: atypical angina\n",
        "   #     -- Value 3: non-anginal pain\n",
        "    #    -- Value 4: asymptomatic\n",
        "\n",
        "df['cp'] = df['cp'].astype('category')\n",
        "print(df[\"cp\"].dtypes)\n",
        "\n",
        "\n",
        "\n",
        "model = smf.ols('age ~ C(cp, Treatment(reference=1))', data=df)\n",
        "results = model.fit()\n",
        "print(results.summary())\n",
        "\n",
        "\n"
      ]
    },
    {
      "cell_type": "markdown",
      "metadata": {
        "id": "kNQ1jXfJkTN4"
      },
      "source": [
        "## Exercise 4: Weighted Effects Coding\n",
        "\n",
        "1. Create a weighted effects coding contrast matrix with `age` as the outcome variable and `cp` as the predictors. Use 1 (typical angina) as the reference category, as in the previous steps.\n",
        "2. Perform linear regression using `ols()` from `Statsmodels` with the weighted effects coding matrix.\n",
        "3. Compare and interpret the results against the previous dummy coding approach, specifically focusing on the impact of using a weighted reference category versus an unweighted reference. How does the weighting affect the interpretation of the relationship between cp and age?"
      ]
    },
    {
      "cell_type": "code",
      "execution_count": 28,
      "metadata": {
        "colab": {
          "base_uri": "https://localhost:8080/"
        },
        "id": "cEo5MhVQkTN5",
        "outputId": "58c677da-9422-49de-feb6-2b4cdc23c58a"
      },
      "outputs": [
        {
          "output_type": "stream",
          "name": "stdout",
          "text": [
            "CP Levels: [1, 2, 3, 4]\n",
            "Counts: [ 23  50  86 144]\n"
          ]
        }
      ],
      "source": [
        "# Exercise 4\n",
        "# Get all genotype levels and save them as a list\n",
        "levels = df['cp'].cat.categories.tolist()\n",
        "\n",
        "\n",
        "cp_counts = df['cp'].value_counts(sort=False)\n",
        "counts = cp_counts.values\n",
        "\n",
        "print(\"CP Levels:\", levels)\n",
        "print(\"Counts:\", counts)\n"
      ]
    },
    {
      "cell_type": "markdown",
      "metadata": {
        "id": "TCUF2_HgkTN5"
      },
      "source": [
        "## Voluntary exercise 1\n",
        "\n",
        "With the model as previously designed in Exercise 2:\n",
        "\n",
        "1. Manually create the contrast matrix and print it\n",
        "2. Create and print the design matrix\n",
        "\n",
        "*Hint: You can create the design matrix from the contrast matrix, but you need to map each level in `cp` to the corresponding contrast row: `cp_mapping = {level: idx for idx, level in enumerate(levels)}`.*\n",
        "\n"
      ]
    },
    {
      "cell_type": "code",
      "execution_count": null,
      "metadata": {
        "id": "mR_S0wDZkTN5"
      },
      "outputs": [],
      "source": [
        "# Voluntary exercise 1"
      ]
    },
    {
      "cell_type": "markdown",
      "metadata": {
        "id": "xtEZTWMwkTN5"
      },
      "source": [
        "## Voluntary exercise 2\n",
        "\n",
        "Implement contrast coding on the heart disease data set. There are no constraints, feel free to explore any contrasts."
      ]
    },
    {
      "cell_type": "code",
      "execution_count": null,
      "metadata": {
        "id": "mIPTNYbGkTN5"
      },
      "outputs": [],
      "source": [
        "# Voluntary exercise 2"
      ]
    }
  ],
  "metadata": {
    "kernelspec": {
      "display_name": "psy111",
      "language": "python",
      "name": "python3"
    },
    "language_info": {
      "codemirror_mode": {
        "name": "ipython",
        "version": 3
      },
      "file_extension": ".py",
      "mimetype": "text/x-python",
      "name": "python",
      "nbconvert_exporter": "python",
      "pygments_lexer": "ipython3",
      "version": "3.13.0"
    },
    "colab": {
      "provenance": []
    }
  },
  "nbformat": 4,
  "nbformat_minor": 0
}