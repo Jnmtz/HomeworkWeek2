{
  "cells": [
    {
      "cell_type": "markdown",
      "metadata": {
        "id": "nfbm6f4PTSaz"
      },
      "source": [
        "# 2.7 Exercises 2"
      ]
    },
    {
      "cell_type": "markdown",
      "metadata": {
        "id": "NUaqJhduTSa3"
      },
      "source": [
        "## Exercise 1: Reaction Time Data Analysis\n",
        "\n",
        "Given a list of reaction times (in milliseconds) from a cognitive task, calculate the average reaction time, and count how many trials had reaction times faster than a threshold (e.g. 300 ms)."
      ]
    },
    {
      "cell_type": "code",
      "execution_count": 6,
      "metadata": {
        "id": "tcw9HgeeTSa4",
        "outputId": "6ff004bc-eacf-4af6-c766-6d2944a09bc8",
        "colab": {
          "base_uri": "https://localhost:8080/"
        }
      },
      "outputs": [
        {
          "output_type": "stream",
          "name": "stdout",
          "text": [
            "The average is: 334.5\n",
            "Number of trials faster than 300 ms: 3\n"
          ]
        }
      ],
      "source": [
        "reaction_times = [250, 320, 300, 450, 280, 310, 290, 510, 305, 330]\n",
        "threshold = 300\n",
        "\n",
        "average_time = sum(reaction_times)/ 10\n",
        "print(\"The average is:\", average_time)\n",
        "\n",
        "faster_reaction = 0\n",
        "# Loop through each reaction time and check if it’s below the threshold\n",
        "for time in reaction_times:\n",
        "    if time < threshold:\n",
        "        faster_reaction += 1  # Increment the counter for each fast reaction\n",
        "\n",
        "print(\"Number of trials faster than\", threshold, \"ms:\", faster_reaction)\n"
      ]
    },
    {
      "cell_type": "markdown",
      "metadata": {
        "id": "BH4ucHXXTSa6"
      },
      "source": [
        "## Exercise 2: Counting Spikes in Neural Data\n",
        "\n",
        "Assume you have a list of voltage readings from a neuron over time. A spike occurs whenever the voltage is above a threshold (e.g., 50 mV). Write code to count the number of spikes."
      ]
    },
    {
      "cell_type": "code",
      "execution_count": 7,
      "metadata": {
        "id": "Vr23uFz1TSa6",
        "outputId": "9b20b429-7a7a-45c7-b945-ca0d2d6bf796",
        "colab": {
          "base_uri": "https://localhost:8080/"
        }
      },
      "outputs": [
        {
          "output_type": "stream",
          "name": "stdout",
          "text": [
            "Number of voltage above threshold 5\n"
          ]
        }
      ],
      "source": [
        "voltage_readings = [45, 52, 49, 55, 60, 48, 47, 53, 49, 50, 65]\n",
        "threshold = 50\n",
        "\n",
        "above_threshold = 0\n",
        "for voltage in voltage_readings:\n",
        "    if voltage > threshold:\n",
        "        above_threshold += 1\n",
        "\n",
        "print(\"Number of voltage above threshold\", above_threshold)\n"
      ]
    },
    {
      "cell_type": "markdown",
      "metadata": {
        "id": "8nRYwUKnTSa7"
      },
      "source": [
        "## Exercise 3: Emotional Word Count\n",
        "\n",
        "You are provided with a list of words from a psychological text analysis of participants' speech. Count how many words are classified as \"positive\" or \"negative\" based on pre-defined lists.\n",
        "\n",
        "*Hint: you can use `in` to check if an item belongs to a list, e.g. `if item in list`...*"
      ]
    },
    {
      "cell_type": "code",
      "execution_count": 8,
      "metadata": {
        "id": "OCrD_uIkTSa7",
        "outputId": "d96ebe85-1d36-4b79-87f2-6ea0394696fe",
        "colab": {
          "base_uri": "https://localhost:8080/"
        }
      },
      "outputs": [
        {
          "output_type": "stream",
          "name": "stdout",
          "text": [
            "6\n",
            "3\n"
          ]
        }
      ],
      "source": [
        "words = [\"peaceful\", \"happy\", \"sad\", \"joy\", \"angry\", \"calm\", \"excited\", \"joyful\", \"miserable\"]\n",
        "positive_words = [\"happy\", \"thankful\", \"joy\", \"calm\", \"excited\", \"joyful\", \"peaceful\", \"content\"]\n",
        "negative_words = [\"sad\", \"depressed\", \"angry\", \"miserable\", \"anxious\"]\n",
        "\n",
        "positive_count = 0\n",
        "negative_count = 0\n",
        "for word in words:\n",
        "  if word in positive_words:\n",
        "    positive_count += 1\n",
        "  elif word in negative_words:\n",
        "    negative_count += 1\n",
        "\n",
        "print(positive_count)\n",
        "print(negative_count)"
      ]
    },
    {
      "cell_type": "markdown",
      "metadata": {
        "id": "CyxOC0LYTSa7"
      },
      "source": [
        "## Exercise 4: Stimulus Response Check\n",
        "\n",
        "Suppose a participant’s responses to a series of stimuli are recorded as \"yes\" or \"no\". Write a loop to check if there are any cases where the participant said \"yes\" three times in a row. If so, print a message that they reached a \"high response\" period.\n",
        "\n",
        "*Hint: You can use `break` to exit the for loop if you found a high response period.*"
      ]
    },
    {
      "cell_type": "code",
      "execution_count": 11,
      "metadata": {
        "id": "YTBdaM3mTSa8",
        "outputId": "f6298c8d-75db-450d-ae1a-813f5fb52bfa",
        "colab": {
          "base_uri": "https://localhost:8080/"
        }
      },
      "outputs": [
        {
          "output_type": "stream",
          "name": "stdout",
          "text": [
            "Reached 3 'yes' responses!\n"
          ]
        }
      ],
      "source": [
        "responses = [\"no\", \"yes\", \"yes\", \"yes\", \"no\", \"no\", \"yes\", \"no\"]\n",
        "\n",
        "yes_response = 0\n",
        "for response in responses:  # Iterate over each item in 'responses'\n",
        "    if response == \"yes\":   # Check if the response is \"yes\"\n",
        "        yes_response += 1   # Increment the counter for each \"yes\" response\n",
        "\n",
        "    if yes_response == 3:   # Check if we've counted 3 \"yes\" responses\n",
        "        print(\"Reached 3 'yes' responses!\")\n",
        "        break  # Exit the loop after reaching 3 \"yes\" response\n",
        ""
      ]
    },
    {
      "cell_type": "markdown",
      "metadata": {
        "id": "dbpu1MsWTSa8"
      },
      "source": [
        "## Exercise 5: Simulating a Stroop Task\n",
        "\n",
        "In a simplified Stroop task, participants must say the color of the text, not the word. You have a list of color-word pairs; print only the color for each item.\n",
        "\n",
        "*Hint: If you iterate over pairs of values, you need to make sure to then handle the values within the pair correcly (e.g. by putting them into individual variables with [tuple unpacking](https://www.w3schools.com/python/python_tuples_unpack.asp)).*"
      ]
    },
    {
      "cell_type": "code",
      "execution_count": 12,
      "metadata": {
        "id": "MzIwTzz8TSa8",
        "outputId": "0cd957b4-935f-4a22-c3c0-3dc85cc0195e",
        "colab": {
          "base_uri": "https://localhost:8080/"
        }
      },
      "outputs": [
        {
          "output_type": "stream",
          "name": "stdout",
          "text": [
            "red\n",
            "green\n",
            "blue\n",
            "yellow\n"
          ]
        }
      ],
      "source": [
        "color_word_pairs = [(\"red\", \"BLUE\"), (\"green\", \"RED\"), (\"blue\", \"GREEN\"), (\"yellow\", \"BLUE\")]\n",
        "\n",
        "# Iterate over each pair and unpack into color and word\n",
        "for color, word in color_word_pairs:\n",
        "    print(color)  # Print only the color\n"
      ]
    },
    {
      "cell_type": "markdown",
      "metadata": {
        "id": "_YUvbD54TSa9"
      },
      "source": [
        "## Exercise 6: Neuron Firing Rate Simulation\n",
        "\n",
        "Given a list of neuron firing intervals (in milliseconds) for a neuron over time, calculate the individual firing rates as well as the average firing rate. The firing rate of a neuron is the reciprocal of the firing interval in seconds (e.g. a firing interval of 100 ms would mean a firing ratr of $\\frac{1}{0.1s} = 10 Hz$)."
      ]
    },
    {
      "cell_type": "code",
      "execution_count": 16,
      "metadata": {
        "id": "BdOxLt31TSa9",
        "outputId": "1ef877d4-1a42-455b-e609-65817887e888",
        "colab": {
          "base_uri": "https://localhost:8080/"
        }
      },
      "outputs": [
        {
          "output_type": "stream",
          "name": "stdout",
          "text": [
            "Individual firing rates (Hz): [10.0, 5.0, 6.666666666666667, 8.333333333333334, 5.555555555555555, 11.11111111111111]\n",
            "Average firing rate (Hz): 7.777777777777779\n"
          ]
        }
      ],
      "source": [
        "intervals = [100, 200, 150, 120, 180, 90]  # in ms\n",
        "\n",
        "# Empty list to store individual firing rates\n",
        "firing_rates = []\n",
        "for interval in intervals:\n",
        "  firing_rate = 1/(interval *0.001)\n",
        "  firing_rates.append(firing_rate)\n",
        "\n",
        "# Calculate average firing rate\n",
        "average_firing_rate = sum(firing_rates) / len(firing_rates)\n",
        "\n",
        "print(\"Individual firing rates (Hz):\", firing_rates)\n",
        "print(\"Average firing rate (Hz):\", average_firing_rate)\n",
        ""
      ]
    },
    {
      "cell_type": "markdown",
      "metadata": {
        "id": "lLLMH13VTSa9"
      },
      "source": [
        "## Exercise 7: Experimental Data Normalization\n",
        "\n",
        "Given a list of participants’ scores on a memory test, normalize the scores to a range of 0 to 1 by dividing each score by the maximum score.\n",
        "\n",
        "*Hint: Create and fill a new list that contains the normalized scores.*"
      ]
    },
    {
      "cell_type": "code",
      "execution_count": 20,
      "metadata": {
        "id": "0TrjRYnJTSa9",
        "outputId": "61e5bf2d-5e89-40d9-e0e5-f1dd5f43276c",
        "colab": {
          "base_uri": "https://localhost:8080/"
        }
      },
      "outputs": [
        {
          "output_type": "stream",
          "name": "stdout",
          "text": [
            "Normalized scores: [0.5, 0.6111111111111112, 0.8888888888888888, 1.0, 0.6666666666666666, 0.7777777777777778]\n"
          ]
        }
      ],
      "source": [
        "scores = [45, 55, 80, 90, 60, 70]\n",
        "\n",
        "\n",
        "# Find the maximum score\n",
        "max_score = max(scores)\n",
        "\n",
        "# Initialize an empty list to store the normalized scores\n",
        "normalized_scores = []\n",
        "\n",
        "# Loop through each score and normalize it\n",
        "for score in scores:\n",
        "    normalized_score = score / max_score  # Calculate normalized score\n",
        "    normalized_scores.append(normalized_score)  # Append to the list\n",
        "\n",
        "print(\"Normalized scores:\", normalized_scores)\n",
        "\n"
      ]
    },
    {
      "cell_type": "markdown",
      "metadata": {
        "id": "6N_3xR1GTSa9"
      },
      "source": [
        "## Exercise 8: Analyzing Sleep Patterns\n",
        "\n",
        "Each item in the sleep_stages list represents 15 minutes of sleep categorized into different stages: `\"Awake\"`, `\"Light Sleep\"`, `\"Deep Sleep\"`, and `\"REM\"`. The task is to analyze sleep patterns by calculating the total time spent in each stage, finding the longest continuous period of deep sleep, and determining if at least 20% of the sleep time was spent in REM.\n",
        "\n",
        "- Calculate the total time spent in each sleep stage.\n",
        "- Identify the longest continuous period spent in \"Deep Sleep.\"\n",
        "- Determine if the participant achieved at least 20% of the total sleep time in \"REM\" sleep.\n",
        "\n",
        "*Hint: You could, for example, create a dictionary to hold the counts of each state before calculating the total time spent in each state.*"
      ]
    },
    {
      "cell_type": "code",
      "execution_count": 24,
      "metadata": {
        "id": "hjgh-bL8TSa-",
        "outputId": "94527afa-26a0-4fb1-da2b-b4a38870ea61",
        "colab": {
          "base_uri": "https://localhost:8080/",
          "height": 309
        }
      },
      "outputs": [
        {
          "output_type": "stream",
          "name": "stdout",
          "text": [
            "105\n",
            "90\n",
            "165\n",
            "120\n",
            "45\n"
          ]
        },
        {
          "output_type": "error",
          "ename": "TypeError",
          "evalue": "'int' object is not iterable",
          "traceback": [
            "\u001b[0;31m---------------------------------------------------------------------------\u001b[0m",
            "\u001b[0;31mTypeError\u001b[0m                                 Traceback (most recent call last)",
            "\u001b[0;32m<ipython-input-24-99aabf0c8769>\u001b[0m in \u001b[0;36m<cell line: 42>\u001b[0;34m()\u001b[0m\n\u001b[1;32m     40\u001b[0m \u001b[0mprint\u001b[0m\u001b[0;34m(\u001b[0m\u001b[0mlongest_deep_sleep\u001b[0m\u001b[0;34m)\u001b[0m\u001b[0;34m\u001b[0m\u001b[0;34m\u001b[0m\u001b[0m\n\u001b[1;32m     41\u001b[0m \u001b[0;34m\u001b[0m\u001b[0m\n\u001b[0;32m---> 42\u001b[0;31m \u001b[0mrem_percentage\u001b[0m \u001b[0;34m=\u001b[0m \u001b[0mrem_sleep\u001b[0m\u001b[0;34m/\u001b[0m\u001b[0;34m(\u001b[0m\u001b[0msum\u001b[0m\u001b[0;34m(\u001b[0m\u001b[0mrem_sleep\u001b[0m\u001b[0;34m,\u001b[0m\u001b[0mawake_sleep\u001b[0m\u001b[0;34m)\u001b[0m\u001b[0;34m+\u001b[0m \u001b[0msum\u001b[0m\u001b[0;34m(\u001b[0m\u001b[0mlight_sleep\u001b[0m\u001b[0;34m,\u001b[0m\u001b[0mdeep_sleep\u001b[0m\u001b[0;34m)\u001b[0m\u001b[0;34m)\u001b[0m\u001b[0;34m\u001b[0m\u001b[0;34m\u001b[0m\u001b[0m\n\u001b[0m\u001b[1;32m     43\u001b[0m \u001b[0mtwenty_percent\u001b[0m \u001b[0;34m=\u001b[0m \u001b[0mrem_percentage\u001b[0m \u001b[0;34m>=\u001b[0m \u001b[0;36m20\u001b[0m\u001b[0;34m\u001b[0m\u001b[0;34m\u001b[0m\u001b[0m\n\u001b[1;32m     44\u001b[0m \u001b[0mprint\u001b[0m\u001b[0;34m(\u001b[0m\u001b[0mrem_percentage\u001b[0m\u001b[0;34m)\u001b[0m\u001b[0;34m\u001b[0m\u001b[0;34m\u001b[0m\u001b[0m\n",
            "\u001b[0;31mTypeError\u001b[0m: 'int' object is not iterable"
          ]
        }
      ],
      "source": [
        "# Simulated sleep stages data for 8 hours (32 intervals of 15 minutes each)\n",
        "sleep_stages = [\n",
        "    \"Awake\", \"Light Sleep\", \"Light Sleep\", \"Deep Sleep\", \"Deep Sleep\", \"Deep Sleep\",\n",
        "    \"REM\", \"REM\", \"Light Sleep\", \"Light Sleep\", \"Awake\", \"Deep Sleep\",\n",
        "    \"Light Sleep\", \"Deep Sleep\", \"REM\", \"REM\", \"Deep Sleep\", \"Light Sleep\",\n",
        "    \"Awake\", \"Light Sleep\", \"Deep Sleep\", \"Deep Sleep\", \"REM\", \"REM\",\n",
        "    \"Light Sleep\", \"Light Sleep\", \"REM\", \"Light Sleep\", \"Awake\", \"Light Sleep\",\n",
        "    \"Awake\", \"Awake\"\n",
        "]\n",
        "\n",
        "rem_sleep = 0\n",
        "awake_sleep = 0\n",
        "light_sleep = 0\n",
        "deep_sleep = 0\n",
        "\n",
        "for sleep in sleep_stages:\n",
        "  if sleep == \"Awake\":\n",
        "    awake_sleep += 15\n",
        "  elif sleep == \"Light Sleep\":\n",
        "    light_sleep  += 15\n",
        "  elif sleep == \"Deep Sleep\":\n",
        "    deep_sleep += 15\n",
        "  elif sleep == \"REM\":\n",
        "    rem_sleep +=15\n",
        "\n",
        "print(rem_sleep)\n",
        "print(awake_sleep)\n",
        "print(light_sleep)\n",
        "print(deep_sleep)\n",
        "\n",
        "longest_deep_sleep = 0\n",
        "current_deep_sleep = 0\n",
        "\n",
        "for stage in sleep_stages:\n",
        "    if stage == \"Deep Sleep\":\n",
        "        current_deep_sleep += 15\n",
        "        longest_deep_sleep = max(longest_deep_sleep, current_deep_sleep)\n",
        "    else:\n",
        "        current_deep_sleep = 0\n",
        "print(longest_deep_sleep)\n",
        "\n",
        "rem_percentage = rem_sleep/(sum(rem_sleep,awake_sleep)+ sum(light_sleep,deep_sleep))\n",
        "twenty_percent = rem_percentage >= 20\n",
        "print(rem_percentage)\n",
        "print(twenty_percent)"
      ]
    }
  ],
  "metadata": {
    "kernelspec": {
      "display_name": "dfc-multiverse",
      "language": "python",
      "name": "python3"
    },
    "language_info": {
      "codemirror_mode": {
        "name": "ipython",
        "version": 3
      },
      "file_extension": ".py",
      "mimetype": "text/x-python",
      "name": "python",
      "nbconvert_exporter": "python",
      "pygments_lexer": "ipython3",
      "version": "3.10.0"
    },
    "colab": {
      "provenance": []
    }
  },
  "nbformat": 4,
  "nbformat_minor": 0
}