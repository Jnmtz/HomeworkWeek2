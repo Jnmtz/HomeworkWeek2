{
  "cells": [
    {
      "cell_type": "markdown",
      "metadata": {
        "id": "D9TZi-RLMJkh"
      },
      "source": [
        "# 2.5 Exercises"
      ]
    },
    {
      "cell_type": "markdown",
      "metadata": {
        "id": "4TIQdKAZMJkl"
      },
      "source": [
        "## Exercise 1: Variables\n",
        "\n",
        "1. Assign the value `42` to a variable named `my_var` and print it.\n",
        "2. Assign the string `\"Hello, World!\"` to a variable named `greeting` and print it.\n",
        "3. Create two variables, `a` and `b`, assign them values `10` and `20`, and save their sum to a variable called `c`. Print their sum.\n",
        "4. Write a comment for (3) explaining what your \"algorithm\" does."
      ]
    },
    {
      "cell_type": "code",
      "execution_count": 2,
      "metadata": {
        "id": "d-ttzCYtMJkm",
        "outputId": "fc959e9e-5027-4fd4-decf-84e8cbf8f970",
        "colab": {
          "base_uri": "https://localhost:8080/"
        }
      },
      "outputs": [
        {
          "output_type": "stream",
          "name": "stdout",
          "text": [
            "42\n",
            "Hello World!\n"
          ]
        }
      ],
      "source": [
        "# Exercise 1\n",
        "my_var = 42;\n",
        "print(my_var)\n",
        "greeting = \"Hello World!\";\n",
        "print(greeting)\n",
        "a = 10; #assigning the value 10 to the variable a\n",
        "b = 20; #assining the value 20 to the variabele b\n",
        "c = a + b ;  #adding variable a and variable b and assigning the value of the sum to variable c\n",
        "print(c)\n",
        "\n"
      ]
    },
    {
      "cell_type": "markdown",
      "metadata": {
        "id": "i3A8NtXcMJkn"
      },
      "source": [
        "## Exercise 2: Types\n",
        "\n",
        "The Python built-in `type()` will return the type of the variable given to it.\n",
        "\n",
        "1. Create a variable `x` and assign it a float value. Check the type of `x` using the `type()` function.\n",
        "2. Create a variable `y` and assign it a string value. Print the type of `y` and its length using the `len()` function.\n",
        "3. Verify that a multiplication of two integers returns another int, while a division returns a float.\n",
        "4. Why do do you think that Python changes the result of a division into type float?"
      ]
    },
    {
      "cell_type": "code",
      "execution_count": 12,
      "metadata": {
        "id": "e5Ff0ImjMJkn",
        "outputId": "9ed764ed-0a6b-4be4-fbc6-079d181f4998",
        "colab": {
          "base_uri": "https://localhost:8080/"
        }
      },
      "outputs": [
        {
          "output_type": "execute_result",
          "data": {
            "text/plain": [
              "float"
            ]
          },
          "metadata": {},
          "execution_count": 12
        }
      ],
      "source": [
        "# Exercise 2\n",
        "x = 3.12\n",
        "type(x)\n",
        "y = \"lol\"\n",
        "len(y)\n",
        "type(y)\n",
        "a = 10\n",
        "b = 3\n",
        "c = a  * b\n",
        "type(c)\n",
        "d = a / b\n",
        "type(d)\n",
        "\n"
      ]
    },
    {
      "cell_type": "markdown",
      "metadata": {
        "id": "XDBClbkzMJko"
      },
      "source": [
        "## Exercise 3: Strings\n",
        "\n",
        "You previously learned about functions like `.lower()` or `.replace()` which allow you to modify strings. But what about counting? Lets for example take the word *Llanfairpwllgwyngyllgogerychwyrndrobwllllantysiliogogogoch*, which is a town in Wales. Can you find a function that lets you count the number of times the combination of two subsequent L's (e.g. \"ll\") appear in that word? See if you can guess how the function could be called and used. Use the internet for help if necessary.\n",
        "\n",
        "1. Count the number of time two subsequent L's occur in the town name.\n",
        "2. Save the result to a new variable and print its value.\n",
        "3. The correct answer should be 5. If your result is different, check the string to see where you might have missed something."
      ]
    },
    {
      "cell_type": "code",
      "execution_count": 16,
      "metadata": {
        "id": "mJ5mzEA7MJko",
        "outputId": "a8a82543-c179-4ca1-8d1f-f1b21cc35024",
        "colab": {
          "base_uri": "https://localhost:8080/"
        }
      },
      "outputs": [
        {
          "output_type": "stream",
          "name": "stdout",
          "text": [
            "5\n"
          ]
        }
      ],
      "source": [
        "town = \"Llanfairpwllgwyngyllgogerychwyrndrobwllllantysiliogogogoch\"\n",
        "town = town.lower()\n",
        "town_count = town.count(\"ll\")\n",
        "print(town_count)\n"
      ]
    },
    {
      "cell_type": "markdown",
      "metadata": {
        "id": "j3t8voWuMJko"
      },
      "source": [
        "## Exercise 4: Booleans\n",
        "\n",
        "Some integer values are equivalent to Python Boolean values.\n",
        "1. Use the equality (==) operator to find the integer which is equivalent to `True`.\n",
        "2. Use the equality (==) operator to find the integer which is equivalent to `False`."
      ]
    },
    {
      "cell_type": "code",
      "execution_count": 30,
      "metadata": {
        "id": "NKn-1wZLMJkp",
        "outputId": "11954b37-0139-49c2-876b-22ff1ed4258a",
        "colab": {
          "base_uri": "https://localhost:8080/"
        }
      },
      "outputs": [
        {
          "output_type": "execute_result",
          "data": {
            "text/plain": [
              "1"
            ]
          },
          "metadata": {},
          "execution_count": 30
        }
      ],
      "source": [
        "# Exercise 4\n",
        "1 == 1\n",
        "5 == 3\n"
      ]
    },
    {
      "cell_type": "markdown",
      "metadata": {
        "id": "Ogh5Fy2ZMJkp"
      },
      "source": [
        "## Exercise 5: Lists\n",
        "\n",
        "\n",
        "1. Create a list named fruits containing `\"apple\"`, `\"banana\"`, and `\"cherry\"`. Add `\"orange\"` to the list and print the result.\n",
        "2. Remove `\"banana\"` from the fruits list and print the updated list.\n"
      ]
    },
    {
      "cell_type": "code",
      "execution_count": 22,
      "metadata": {
        "id": "igHUhBUgMJkp",
        "outputId": "7a9f5979-1e9f-4f2c-b194-78535720134b",
        "colab": {
          "base_uri": "https://localhost:8080/"
        }
      },
      "outputs": [
        {
          "output_type": "stream",
          "name": "stdout",
          "text": [
            "['apple', 'cherry', 'orange']\n"
          ]
        }
      ],
      "source": [
        "# Execise 6\n",
        "fruits = [\"apple\", \"bannana\", \"cherry\", \"orange\"]\n",
        "fruits.remove(\"bannana\")\n",
        "print(fruits)"
      ]
    },
    {
      "cell_type": "markdown",
      "metadata": {
        "id": "M0HlvfPGMJkp"
      },
      "source": [
        "## Exercise 6: More lists\n",
        "\n",
        "You previously learned about the `.append()` function for adding a new item to the end of a list. You can also add two lists together by using the plus (+) operator. Given the lists provided below, can you:\n",
        "\n",
        "1. Create a new list which combines list1 and list2?\n",
        "2. Create a new list that has the items [6, 5, 1, 2, 3] by only using indexing operations and functions associated with lists?\n",
        "\n",
        "*Hint: Lists come with more functions like `.extend()` or `.reverse()`. You can find a full list in the [Python documentation](https://docs.python.org/3/tutorial/datastructures.html#more-on-lists).*\n"
      ]
    },
    {
      "cell_type": "code",
      "execution_count": 33,
      "metadata": {
        "id": "bAuTHYFvMJkp",
        "outputId": "30ce6d79-2a5a-49ed-dbee-4633300322a3",
        "colab": {
          "base_uri": "https://localhost:8080/"
        }
      },
      "outputs": [
        {
          "output_type": "stream",
          "name": "stdout",
          "text": [
            "[1, 2, 3, 4, 5, 6]\n",
            "[3, 2, 1, 5, 6]\n"
          ]
        }
      ],
      "source": [
        "list1 = [1, 2, 3]\n",
        "list2 = [4, 5, 6]\n",
        "list3 = list1 + list2\n",
        "print(list3)\n",
        "list4 = [6,1,2]\n",
        "list4.append(3)\n",
        "list4.insert(1,5)\n",
        "list4.reverse()\n",
        "print(list4)\n"
      ]
    },
    {
      "cell_type": "markdown",
      "metadata": {
        "id": "SbDIOeTDMJkq"
      },
      "source": [
        "## Exercise 7: Indexing\n",
        "\n",
        "You previousy learned how to access specific elements of a list by enclosing an index in square brackets (`first_item = my_list[0]`). A useful feature in Python is that you can also start indexing from the back of a list by using negative numbers (`last_item = my_list[-1]`). Experiment with this for a bit and then answer/implement the following questions:\n",
        "\n",
        "1. What is the negative number index for the last item in the list?\n",
        "2. What is the negative number index for the first item in the list?\n",
        "3. Can you write code that would use a negative number to index the first item in the list,\n",
        "without advance knowledge of its length? Hint: A function introduced in the *Strings* section of the might be useful here.\n"
      ]
    },
    {
      "cell_type": "code",
      "execution_count": 31,
      "metadata": {
        "id": "NiOZ6r71MJkq",
        "outputId": "e803207d-630c-416e-b401-e52640b87d90",
        "colab": {
          "base_uri": "https://localhost:8080/"
        }
      },
      "outputs": [
        {
          "output_type": "stream",
          "name": "stdout",
          "text": [
            "Goodbye\n",
            "Hello\n"
          ]
        }
      ],
      "source": [
        "my_list = [\"Hello\", 1, 3.14, True, 5, 1234, \"Goodbye\"]\n",
        "last_item = my_list[-1] # last item index -1\n",
        "print(last_item)\n",
        "first_item = my_list[-len(my_list)] #negative index for first item in the list\n",
        "print(first_item)\n",
        "\n"
      ]
    },
    {
      "cell_type": "markdown",
      "metadata": {
        "id": "lrc3mtH-MJkq"
      },
      "source": [
        "## Exercise 8: Dictionaries\n",
        "\n",
        "Below you can see a dictionary containing the price of different fruits.\n",
        "\n",
        "1. Add another fruit to the dictionary. This fruit should have several different prices associated with it, organized as a list\n",
        "2. Access the second price in this list in a single line of code and save it to a variable called `second_price`\n",
        "3. Print the newly added fruit and its the second price like so: \"The second price of <your_fruit> is <second_price> €\".\n",
        "\n",
        "*Hint: You can use the previously introduced f-strings for printing*"
      ]
    },
    {
      "cell_type": "code",
      "execution_count": 37,
      "metadata": {
        "id": "bE26mUjIMJkq",
        "outputId": "dd5654c5-2598-4568-f711-df291dd80338",
        "colab": {
          "base_uri": "https://localhost:8080/"
        }
      },
      "outputs": [
        {
          "output_type": "stream",
          "name": "stdout",
          "text": [
            "The second price of pear is 3\n"
          ]
        }
      ],
      "source": [
        "fruit_prices = {\n",
        "    \"apple\": 0.5,\n",
        "    \"banana\": 0.2,\n",
        "    \"pear\" : [1.2 , 3, 1.75]\n",
        "}\n",
        "c =fruit_prices[\"pear\"][1]\n",
        "print(\"The second price of pear is\", c )"
      ]
    },
    {
      "cell_type": "markdown",
      "metadata": {
        "id": "onu1S6GhMJkq"
      },
      "source": [
        "## Exercise 9: Conditionals\n",
        "\n",
        "Can you rewrite the code below by only using **one** *if*, **one** *elif*, and **one** `else` statement to improve readability?"
      ]
    },
    {
      "cell_type": "code",
      "execution_count": 39,
      "metadata": {
        "id": "nSspPKJmMJkq",
        "outputId": "f77f90fa-58f1-4e37-b75e-dd683c1c4acd",
        "colab": {
          "base_uri": "https://localhost:8080/"
        }
      },
      "outputs": [
        {
          "output_type": "stream",
          "name": "stdout",
          "text": [
            "Points are more than 10.\n"
          ]
        }
      ],
      "source": [
        "points = 12\n",
        "\n",
        "if points > 10:\n",
        "    print(\"Points are more than 10.\")\n",
        "elif points == 10:\n",
        "    print(\"Points are exactly 10.\")\n",
        "else :\n",
        "    print(\"Points are less than 10.\")\n"
      ]
    },
    {
      "cell_type": "markdown",
      "metadata": {
        "id": "-UuZ-AW_MJkr"
      },
      "source": [
        "## Exercise 10: Loops\n",
        "\n",
        "You are provided with a list of integers called `numbers`. Your task is to:\n",
        "\n",
        "1. Write a for loop which calculate the sum of all items in the list. Print the result.\n",
        "2. Again count the sum of elements, but exclude the item at index 3.\n",
        "3. Write a for loop to count how many numbers in the list are even. Print the count.\n",
        "\n",
        "*Hints:*\n",
        "- *You might find using a counting variable useful for all three exercises.*\n",
        "- *You can use the `enumerate()` function and the `!=` operator if you work with indices in a loop.*\n",
        "- *The modulo `%` operator will give you the remainder of a division. So the expression `number % 2 == 0` will be `True` if number is even (there is no remainder), or else it will be `False` (there is a remainder).*"
      ]
    },
    {
      "cell_type": "code",
      "execution_count": 43,
      "metadata": {
        "id": "gxxUF99kMJkr",
        "outputId": "8ec370b1-75df-4780-bdea-e4e34311aa3d",
        "colab": {
          "base_uri": "https://localhost:8080/",
          "height": 110
        }
      },
      "outputs": [
        {
          "output_type": "error",
          "ename": "IndentationError",
          "evalue": "expected an indented block after 'if' statement on line 10 (<ipython-input-43-1c1b337a1aae>, line 11)",
          "traceback": [
            "\u001b[0;36m  File \u001b[0;32m\"<ipython-input-43-1c1b337a1aae>\"\u001b[0;36m, line \u001b[0;32m11\u001b[0m\n\u001b[0;31m    total_sum2= total_sum + num\u001b[0m\n\u001b[0m    ^\u001b[0m\n\u001b[0;31mIndentationError\u001b[0m\u001b[0;31m:\u001b[0m expected an indented block after 'if' statement on line 10\n"
          ]
        }
      ],
      "source": [
        "numbers = [10, 15, 8, 23, 42, 4, 16, 9, 7, 30]\n",
        "total_sum = 0\n",
        "for num in numbers:\n",
        "    total_sum =total_sum + num\n",
        "print(\"Sum of all items:\", total_sum)\n",
        "\n",
        "\n",
        "total_sum2 = 0\n",
        "for num in numbers:\n",
        "  if index !=3:\n",
        "  total_sum2= total_sum + num\n",
        "  print(total_sum2)"
      ]
    },
    {
      "cell_type": "markdown",
      "metadata": {
        "id": "hNmnQapFMJkr"
      },
      "source": [
        "## Voluntary Exercise 1: Lists and dictionaries combined\n",
        "\n",
        "Create a *list of dictionaries* where each dictionary represents a student. The keys should be `\"name\"`, `\"age\"`, and `\"grades\"` (a list of three integers). Then write code that prints the name of the student with the highest average grade."
      ]
    },
    {
      "cell_type": "code",
      "execution_count": null,
      "metadata": {
        "id": "JhW_EOuVMJks"
      },
      "outputs": [],
      "source": [
        "# Voluntary exercise 1"
      ]
    },
    {
      "cell_type": "markdown",
      "metadata": {
        "id": "bbPnT2t6MJks"
      },
      "source": [
        "## Voluntary Exercise 2: Swapping values\n",
        "\n",
        "Can you swap the values of `a` and `b` without creating a temporary (thrird) variable?"
      ]
    },
    {
      "cell_type": "code",
      "execution_count": null,
      "metadata": {
        "id": "5jieBb0LMJks"
      },
      "outputs": [],
      "source": [
        "a = 5\n",
        "b = 10"
      ]
    },
    {
      "cell_type": "markdown",
      "metadata": {
        "id": "9lA35kDNMJks"
      },
      "source": [
        "## Voluntary Exercise 3: More loops\n",
        "\n",
        "Please use a loop to iterate through the list of numbers. For each number, determine if it is prime and print whether it is prime or not."
      ]
    },
    {
      "cell_type": "code",
      "execution_count": null,
      "metadata": {
        "id": "Bs1VM9q1MJks"
      },
      "outputs": [],
      "source": [
        "numbers = [2, 3, 4, 5, 10, 11, 15, 17, 18, 23, 29, 30]"
      ]
    }
  ],
  "metadata": {
    "kernelspec": {
      "display_name": "dfc-multiverse",
      "language": "python",
      "name": "python3"
    },
    "language_info": {
      "codemirror_mode": {
        "name": "ipython",
        "version": 3
      },
      "file_extension": ".py",
      "mimetype": "text/x-python",
      "name": "python",
      "nbconvert_exporter": "python",
      "pygments_lexer": "ipython3",
      "version": "3.10.0"
    },
    "colab": {
      "provenance": []
    }
  },
  "nbformat": 4,
  "nbformat_minor": 0
}